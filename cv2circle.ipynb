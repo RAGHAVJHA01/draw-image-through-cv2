{
  "nbformat": 4,
  "nbformat_minor": 0,
  "metadata": {
    "colab": {
      "name": "cv2circle.ipynb",
      "provenance": []
    },
    "kernelspec": {
      "name": "python3",
      "display_name": "Python 3"
    },
    "language_info": {
      "name": "python"
    }
  },
  "cells": [
    {
      "cell_type": "markdown",
      "metadata": {
        "id": "_ubA5DoKyqU2"
      },
      "source": [
        "**Import Library**"
      ]
    },
    {
      "cell_type": "code",
      "metadata": {
        "id": "OCUgv8Z3cP2F"
      },
      "source": [
        "import numpy as np\n",
        "import cv2"
      ],
      "execution_count": 2,
      "outputs": []
    },
    {
      "cell_type": "code",
      "metadata": {
        "id": "IxzrjLI6dKKX"
      },
      "source": [
        "from google.colab.patches import cv2_imshow"
      ],
      "execution_count": 3,
      "outputs": []
    },
    {
      "cell_type": "markdown",
      "metadata": {
        "id": "wI2Vcmw6y3jH"
      },
      "source": [
        "**Create a Circle image 256 pixel**"
      ]
    },
    {
      "cell_type": "code",
      "metadata": {
        "colab": {
          "base_uri": "https://localhost:8080/",
          "height": 273
        },
        "id": "JC-CZb05jFxg",
        "outputId": "37d76bc6-c0b9-4d1e-fb47-c44b364363fd"
      },
      "source": [
        "image_circle = np.zeros((256,256,3), np.uint8)\n",
        "cv2.circle(image_circle,(120, 120), 100, (255,255,255), -1) \n",
        "cv2_imshow(image_circle)\n",
        "cv2.waitKey(0)\n",
        "cv2.destroyAllWindows()"
      ],
      "execution_count": 5,
      "outputs": [
        {
          "output_type": "display_data",
          "data": {
            "image/png": "[encoded data removed]",
            "text/plain": [
              "<PIL.Image.Image image mode=RGB size=256x256 at 0x7F461EBBB350>"
            ]
          },
          "metadata": {}
        }
      ]
    },
    {
      "cell_type": "markdown",
      "metadata": {
        "id": "0M-OSmqwzEhU"
      },
      "source": [
        "**Put Sequaer inside the image**"
      ]
    },
    {
      "cell_type": "code",
      "metadata": {
        "colab": {
          "base_uri": "https://localhost:8080/",
          "height": 273
        },
        "id": "cAm8Sd-Qtie_",
        "outputId": "05cdd6ca-75ac-42a6-e940-c5c91143a0ad"
      },
      "source": [
        "image_seq = cv2.rectangle(image_circle, (50,50) , (190, 190), (0, 0, 0), thickness)\n",
        "cv2_imshow(image_seq) "
      ],
      "execution_count": 7,
      "outputs": [
        {
          "output_type": "display_data",
          "data": {
            "image/png": "[encoded data removed]",
            "text/plain": [
              "<PIL.Image.Image image mode=RGB size=256x256 at 0x7F461EB5A0D0>"
            ]
          },
          "metadata": {}
        }
      ]
    },
    {
      "cell_type": "code",
      "metadata": {
        "id": "bmRIA2NItiqp"
      },
      "source": [
        ""
      ],
      "execution_count": 6,
      "outputs": []
    }
  ]
}